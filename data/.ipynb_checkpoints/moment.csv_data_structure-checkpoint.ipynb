{
 "cells": [
  {
   "cell_type": "code",
   "execution_count": 1,
   "metadata": {
    "collapsed": true
   },
   "outputs": [],
   "source": [
    "import pandas as pd\n",
    "import numpy as np"
   ]
  },
  {
   "cell_type": "code",
   "execution_count": 2,
   "metadata": {
    "collapsed": true
   },
   "outputs": [],
   "source": [
    "df = pd.read_csv('moment.csv')\n",
    "df1 = pd.read_csv('moment-details.csv')"
   ]
  },
  {
   "cell_type": "code",
   "execution_count": 10,
   "metadata": {},
   "outputs": [
    {
     "data": {
      "text/plain": [
       "(35, 21)"
      ]
     },
     "execution_count": 10,
     "metadata": {},
     "output_type": "execute_result"
    }
   ],
   "source": [
    "df.shape"
   ]
  },
  {
   "cell_type": "code",
   "execution_count": 11,
   "metadata": {},
   "outputs": [
    {
     "data": {
      "text/plain": [
       "(42, 11)"
      ]
     },
     "execution_count": 11,
     "metadata": {},
     "output_type": "execute_result"
    }
   ],
   "source": [
    "df1.shape"
   ]
  },
  {
   "cell_type": "code",
   "execution_count": 12,
   "metadata": {},
   "outputs": [
    {
     "data": {
      "text/plain": [
       "(35,)"
      ]
     },
     "execution_count": 12,
     "metadata": {},
     "output_type": "execute_result"
    }
   ],
   "source": [
    "df['comment_id'].shape"
   ]
  },
  {
   "cell_type": "code",
   "execution_count": 13,
   "metadata": {},
   "outputs": [
    {
     "data": {
      "text/plain": [
       "(42,)"
      ]
     },
     "execution_count": 13,
     "metadata": {},
     "output_type": "execute_result"
    }
   ],
   "source": [
    "df1['comment_id'].shape"
   ]
  },
  {
   "cell_type": "code",
   "execution_count": 20,
   "metadata": {},
   "outputs": [],
   "source": [
    "df3 = df1.set_index('comment_id').join(df.set_index('comment_id'))"
   ]
  },
  {
   "cell_type": "code",
   "execution_count": 21,
   "metadata": {
    "collapsed": true
   },
   "outputs": [],
   "source": [
    "del df3['MOM1CHAR']"
   ]
  },
  {
   "cell_type": "code",
   "execution_count": 22,
   "metadata": {},
   "outputs": [
    {
     "data": {
      "text/plain": [
       "(42, 29)"
      ]
     },
     "execution_count": 22,
     "metadata": {},
     "output_type": "execute_result"
    }
   ],
   "source": [
    "df3.shape"
   ]
  },
  {
   "cell_type": "code",
   "execution_count": 23,
   "metadata": {},
   "outputs": [
    {
     "data": {
      "text/html": [
       "<div>\n",
       "<style>\n",
       "    .dataframe thead tr:only-child th {\n",
       "        text-align: right;\n",
       "    }\n",
       "\n",
       "    .dataframe thead th {\n",
       "        text-align: left;\n",
       "    }\n",
       "\n",
       "    .dataframe tbody tr th {\n",
       "        vertical-align: top;\n",
       "    }\n",
       "</style>\n",
       "<table border=\"1\" class=\"dataframe\">\n",
       "  <thead>\n",
       "    <tr style=\"text-align: right;\">\n",
       "      <th></th>\n",
       "      <th>MOM.STARTBAR</th>\n",
       "      <th>MOM.STARTBEAT</th>\n",
       "      <th>MOM.ENDBAR</th>\n",
       "      <th>MOM.ENDBEAT</th>\n",
       "      <th>MOM.CELLO</th>\n",
       "      <th>MOM.PIANOLEFT</th>\n",
       "      <th>MOM.PIANORIGHT</th>\n",
       "      <th>heard</th>\n",
       "      <th>played</th>\n",
       "      <th>role</th>\n",
       "      <th>...</th>\n",
       "      <th>sentiment</th>\n",
       "      <th>trial_categories</th>\n",
       "      <th>rater1_reassigned</th>\n",
       "      <th>rater2_reassigned</th>\n",
       "      <th>rater1_raw</th>\n",
       "      <th>rater2_raw</th>\n",
       "      <th>commentator_instrument</th>\n",
       "      <th>rater1</th>\n",
       "      <th>rater2</th>\n",
       "      <th>agreement</th>\n",
       "    </tr>\n",
       "    <tr>\n",
       "      <th>comment_id</th>\n",
       "      <th></th>\n",
       "      <th></th>\n",
       "      <th></th>\n",
       "      <th></th>\n",
       "      <th></th>\n",
       "      <th></th>\n",
       "      <th></th>\n",
       "      <th></th>\n",
       "      <th></th>\n",
       "      <th></th>\n",
       "      <th></th>\n",
       "      <th></th>\n",
       "      <th></th>\n",
       "      <th></th>\n",
       "      <th></th>\n",
       "      <th></th>\n",
       "      <th></th>\n",
       "      <th></th>\n",
       "      <th></th>\n",
       "      <th></th>\n",
       "      <th></th>\n",
       "    </tr>\n",
       "  </thead>\n",
       "  <tbody>\n",
       "    <tr>\n",
       "      <th>MOM1CHAR.01</th>\n",
       "      <td>67</td>\n",
       "      <td>3</td>\n",
       "      <td>68</td>\n",
       "      <td>2</td>\n",
       "      <td>1</td>\n",
       "      <td>0</td>\n",
       "      <td>1</td>\n",
       "      <td>yes</td>\n",
       "      <td>yes</td>\n",
       "      <td>Performing pianist</td>\n",
       "      <td>...</td>\n",
       "      <td>neg</td>\n",
       "      <td>judgement of collaboration</td>\n",
       "      <td>5.0</td>\n",
       "      <td>5.0</td>\n",
       "      <td>5.0</td>\n",
       "      <td>5.0</td>\n",
       "      <td>Performing pianist</td>\n",
       "      <td>Performing cellist</td>\n",
       "      <td>Non-performing cellist</td>\n",
       "      <td>diff</td>\n",
       "    </tr>\n",
       "    <tr>\n",
       "      <th>MOM1CHAR.02</th>\n",
       "      <td>1</td>\n",
       "      <td>1</td>\n",
       "      <td>10</td>\n",
       "      <td>2</td>\n",
       "      <td>1</td>\n",
       "      <td>1</td>\n",
       "      <td>1</td>\n",
       "      <td>yes</td>\n",
       "      <td>yes</td>\n",
       "      <td>Performing cellist</td>\n",
       "      <td>...</td>\n",
       "      <td>neg</td>\n",
       "      <td>judgement of interpretation</td>\n",
       "      <td>1.0</td>\n",
       "      <td>4.0</td>\n",
       "      <td>1.0</td>\n",
       "      <td>4.0</td>\n",
       "      <td>Performing cellist</td>\n",
       "      <td>Performing pianist</td>\n",
       "      <td>Non-performing pianist</td>\n",
       "      <td>diff</td>\n",
       "    </tr>\n",
       "    <tr>\n",
       "      <th>MOM1CHAR.03</th>\n",
       "      <td>17</td>\n",
       "      <td>3</td>\n",
       "      <td>17</td>\n",
       "      <td>4</td>\n",
       "      <td>1</td>\n",
       "      <td>1</td>\n",
       "      <td>1</td>\n",
       "      <td>yes</td>\n",
       "      <td>yes</td>\n",
       "      <td>Non-performing pianist</td>\n",
       "      <td>...</td>\n",
       "      <td>neg</td>\n",
       "      <td>judgement of collaboration</td>\n",
       "      <td>5.0</td>\n",
       "      <td>3.0</td>\n",
       "      <td>5.0</td>\n",
       "      <td>3.0</td>\n",
       "      <td>Non-performing pianist</td>\n",
       "      <td>Non-performing cellist</td>\n",
       "      <td>Performing cellist</td>\n",
       "      <td>same</td>\n",
       "    </tr>\n",
       "    <tr>\n",
       "      <th>MOM1CHAR.04</th>\n",
       "      <td>27</td>\n",
       "      <td>2</td>\n",
       "      <td>35</td>\n",
       "      <td>3</td>\n",
       "      <td>1</td>\n",
       "      <td>1</td>\n",
       "      <td>1</td>\n",
       "      <td>yes</td>\n",
       "      <td>yes</td>\n",
       "      <td>Non-performing cellist</td>\n",
       "      <td>...</td>\n",
       "      <td>neg</td>\n",
       "      <td>judgement of collaboration</td>\n",
       "      <td>2.0</td>\n",
       "      <td>5.0</td>\n",
       "      <td>2.0</td>\n",
       "      <td>5.0</td>\n",
       "      <td>Both</td>\n",
       "      <td>Non-performing pianist</td>\n",
       "      <td>Performing pianist</td>\n",
       "      <td>same</td>\n",
       "    </tr>\n",
       "    <tr>\n",
       "      <th>MOM1CHAR.05</th>\n",
       "      <td>17</td>\n",
       "      <td>3</td>\n",
       "      <td>17</td>\n",
       "      <td>4</td>\n",
       "      <td>1</td>\n",
       "      <td>?</td>\n",
       "      <td>?</td>\n",
       "      <td>no</td>\n",
       "      <td>no</td>\n",
       "      <td>NaN</td>\n",
       "      <td>...</td>\n",
       "      <td>NaN</td>\n",
       "      <td>NaN</td>\n",
       "      <td>NaN</td>\n",
       "      <td>NaN</td>\n",
       "      <td>NaN</td>\n",
       "      <td>NaN</td>\n",
       "      <td>NaN</td>\n",
       "      <td>NaN</td>\n",
       "      <td>NaN</td>\n",
       "      <td>NaN</td>\n",
       "    </tr>\n",
       "  </tbody>\n",
       "</table>\n",
       "<p>5 rows × 29 columns</p>\n",
       "</div>"
      ],
      "text/plain": [
       "            MOM.STARTBAR MOM.STARTBEAT MOM.ENDBAR MOM.ENDBEAT MOM.CELLO  \\\n",
       "comment_id                                                                \n",
       "MOM1CHAR.01           67             3         68           2         1   \n",
       "MOM1CHAR.02            1             1         10           2         1   \n",
       "MOM1CHAR.03           17             3         17           4         1   \n",
       "MOM1CHAR.04           27             2         35           3         1   \n",
       "MOM1CHAR.05           17             3         17           4         1   \n",
       "\n",
       "            MOM.PIANOLEFT MOM.PIANORIGHT heard played                    role  \\\n",
       "comment_id                                                                      \n",
       "MOM1CHAR.01             0              1   yes    yes      Performing pianist   \n",
       "MOM1CHAR.02             1              1   yes    yes      Performing cellist   \n",
       "MOM1CHAR.03             1              1   yes    yes  Non-performing pianist   \n",
       "MOM1CHAR.04             1              1   yes    yes  Non-performing cellist   \n",
       "MOM1CHAR.05             ?              ?    no     no                     NaN   \n",
       "\n",
       "               ...    sentiment             trial_categories  \\\n",
       "comment_id     ...                                             \n",
       "MOM1CHAR.01    ...          neg   judgement of collaboration   \n",
       "MOM1CHAR.02    ...          neg  judgement of interpretation   \n",
       "MOM1CHAR.03    ...          neg   judgement of collaboration   \n",
       "MOM1CHAR.04    ...          neg   judgement of collaboration   \n",
       "MOM1CHAR.05    ...          NaN                          NaN   \n",
       "\n",
       "             rater1_reassigned rater2_reassigned rater1_raw  rater2_raw  \\\n",
       "comment_id                                                                \n",
       "MOM1CHAR.01                5.0               5.0        5.0         5.0   \n",
       "MOM1CHAR.02                1.0               4.0        1.0         4.0   \n",
       "MOM1CHAR.03                5.0               3.0        5.0         3.0   \n",
       "MOM1CHAR.04                2.0               5.0        2.0         5.0   \n",
       "MOM1CHAR.05                NaN               NaN        NaN         NaN   \n",
       "\n",
       "             commentator_instrument                  rater1  \\\n",
       "comment_id                                                    \n",
       "MOM1CHAR.01      Performing pianist      Performing cellist   \n",
       "MOM1CHAR.02      Performing cellist      Performing pianist   \n",
       "MOM1CHAR.03  Non-performing pianist  Non-performing cellist   \n",
       "MOM1CHAR.04                    Both  Non-performing pianist   \n",
       "MOM1CHAR.05                     NaN                     NaN   \n",
       "\n",
       "                             rater2 agreement  \n",
       "comment_id                                     \n",
       "MOM1CHAR.01  Non-performing cellist      diff  \n",
       "MOM1CHAR.02  Non-performing pianist      diff  \n",
       "MOM1CHAR.03      Performing cellist      same  \n",
       "MOM1CHAR.04      Performing pianist      same  \n",
       "MOM1CHAR.05                     NaN       NaN  \n",
       "\n",
       "[5 rows x 29 columns]"
      ]
     },
     "execution_count": 23,
     "metadata": {},
     "output_type": "execute_result"
    }
   ],
   "source": [
    "df3.head()"
   ]
  },
  {
   "cell_type": "code",
   "execution_count": 24,
   "metadata": {
    "collapsed": true
   },
   "outputs": [],
   "source": [
    "df3.to_csv('moment_all',index=True)"
   ]
  }
 ],
 "metadata": {
  "kernelspec": {
   "display_name": "Python 3",
   "language": "python",
   "name": "python3"
  },
  "language_info": {
   "codemirror_mode": {
    "name": "ipython",
    "version": 3
   },
   "file_extension": ".py",
   "mimetype": "text/x-python",
   "name": "python",
   "nbconvert_exporter": "python",
   "pygments_lexer": "ipython3",
   "version": "3.6.3"
  }
 },
 "nbformat": 4,
 "nbformat_minor": 2
}
